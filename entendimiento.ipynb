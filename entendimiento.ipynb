{
 "cells": [
  {
   "cell_type": "code",
   "execution_count": 302,
   "metadata": {},
   "outputs": [
    {
     "data": {
      "text/plain": [
       "'\\nPseudocode \\nfft(A, n, w)\\nA => Vector tamaño n\\nn => Tamaño del vector, debe ser multiplo de 2\\nw => las raices complejas de la unidad\\n'"
      ]
     },
     "execution_count": 302,
     "metadata": {},
     "output_type": "execute_result"
    }
   ],
   "source": [
    "\"\"\"\n",
    "Pseudocode \n",
    "fft(A, n, w)\n",
    "A => Vector tamaño n\n",
    "n => Tamaño del vector, debe ser multiplo de 2\n",
    "w => las raices complejas de la unidad\n",
    "\"\"\""
   ]
  },
  {
   "cell_type": "code",
   "execution_count": 303,
   "metadata": {},
   "outputs": [],
   "source": [
    "import math"
   ]
  },
  {
   "cell_type": "code",
   "execution_count": 304,
   "metadata": {},
   "outputs": [],
   "source": [
    "class Complex:\n",
    "    def __init__(self, real:float, img:float):\n",
    "        self.real = real\n",
    "        self.img = img\n",
    "    \n",
    "    def __add__(self, x):\n",
    "        if isinstance(x, Complex):\n",
    "            return Complex(self.real + x.real, self.img + x.img)\n",
    "        elif isinstance(x, float):\n",
    "            return Complex(self.real + x, self.img)\n",
    "        elif isinstance(x, int):\n",
    "            return Complex(self.real + x, self.img)\n",
    "\n",
    "    def __sub__(self, x):\n",
    "        if isinstance(x, Complex):\n",
    "            return Complex(self.real - x.real, self.img - x.img)\n",
    "        elif isinstance(x, float):\n",
    "            return Complex(self.real - x, self.img)\n",
    "        elif isinstance(x, int):\n",
    "            return Complex(self.real - x, self.img)\n",
    "\n",
    "    def __mul__(self, x):\n",
    "        if isinstance(x, Complex):\n",
    "            return Complex((self.real * x.real - self.img * x.img), (self.real * x.img + self.img * x.real))\n",
    "        elif isinstance(x, float):\n",
    "            return Complex(self.real * x, self.img * x)\n",
    "        elif isinstance(x, int):\n",
    "            return Complex(self.real * x, self.img * x)\n",
    "\n",
    "    def magnitude(self):\n",
    "        return math.sqrt(self.real*self.real + self.img*self.img)\n",
    "\n",
    "    def __str__(self) -> str:\n",
    "        return f\"{self.real} + i{self.img}\"\n"
   ]
  },
  {
   "cell_type": "code",
   "execution_count": 305,
   "metadata": {},
   "outputs": [],
   "source": [
    "def genWs(N):\n",
    "    a = (2.0*math.pi)/N\n",
    "    W = []\n",
    "    for n in range(N):\n",
    "        temp = Complex(0,0)\n",
    "        temp.real = float(math.cos(-n*a))\n",
    "        temp.img = float(math.sin(-n*a))\n",
    "        W.append(temp)\n",
    "    return W\n"
   ]
  },
  {
   "cell_type": "code",
   "execution_count": 306,
   "metadata": {},
   "outputs": [],
   "source": [
    "# Perform butterfly\n",
    "def FFT(signal, u):\n",
    "    #x = [Complex(o,0) for o in signal]\n",
    "    x = []\n",
    "    for o in signal:\n",
    "        x.append(Complex(o,0))\n",
    "    n = len(signal)\n",
    "    Windex = 1\n",
    "    lent = n//2\n",
    "    while(lent>0):\n",
    "        Wptr = 0\n",
    "        for j in range(lent):\n",
    "            ui = u[Wptr]\n",
    "            i = j \n",
    "            while(i < n):\n",
    "                temp = x[i] + x[i+lent]\n",
    "                tm = x[i] - x[i+lent]\n",
    "                x[i+lent] = tm*ui\n",
    "                x[i] = temp\n",
    "                i = i + 2*lent\n",
    "            Wptr = Wptr + Windex\n",
    "        lent = lent//2\n",
    "        Windex = 2*Windex \n",
    "    \n",
    "    j = 0\n",
    "    for i in range(1, n-1):\n",
    "        k = n//2\n",
    "        while(k<=j):\n",
    "            j = j-k\n",
    "            k = k//2\n",
    "        j = j+k\n",
    "        if i<j:\n",
    "            temp = x[j]\n",
    "            x[j] = x[i]\n",
    "            x[i] = temp\n",
    "\n",
    "    return x\n"
   ]
  },
  {
   "cell_type": "code",
   "execution_count": 307,
   "metadata": {},
   "outputs": [
    {
     "name": "stdout",
     "output_type": "stream",
     "text": [
      "36 + i0\n",
      "-4.0 + i9.65685424949238\n",
      "-4.0 + i4.0\n",
      "-4.0 + i1.6568542494923797\n",
      "-4.0 + i0.0\n",
      "-3.9999999999999996 + i-1.6568542494923806\n",
      "-3.9999999999999996 + i-4.0\n",
      "-3.999999999999999 + i-9.65685424949238\n"
     ]
    }
   ],
   "source": [
    "entrada = [1,2,3,4,5,6,7,8]\n",
    "uentrada = genWs(len(entrada))\n",
    "x = FFT(entrada,uentrada)\n",
    "for c in x:\n",
    "    print(c)\n"
   ]
  }
 ],
 "metadata": {
  "kernelspec": {
   "display_name": "Python 3.10.4 64-bit",
   "language": "python",
   "name": "python3"
  },
  "language_info": {
   "codemirror_mode": {
    "name": "ipython",
    "version": 3
   },
   "file_extension": ".py",
   "mimetype": "text/x-python",
   "name": "python",
   "nbconvert_exporter": "python",
   "pygments_lexer": "ipython3",
   "version": "3.10.4"
  },
  "orig_nbformat": 4,
  "vscode": {
   "interpreter": {
    "hash": "f5ff168696553f3e2cb115c273c46eeb315c32b0d0536992c4bad2740a7f9469"
   }
  }
 },
 "nbformat": 4,
 "nbformat_minor": 2
}
